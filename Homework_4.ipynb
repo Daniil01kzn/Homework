{
  "nbformat": 4,
  "nbformat_minor": 0,
  "metadata": {
    "colab": {
      "provenance": [],
      "authorship_tag": "ABX9TyOmZIgCpyJeVf5Ct+9KKDp/",
      "include_colab_link": true
    },
    "kernelspec": {
      "name": "python3",
      "display_name": "Python 3"
    },
    "language_info": {
      "name": "python"
    }
  },
  "cells": [
    {
      "cell_type": "markdown",
      "metadata": {
        "id": "view-in-github",
        "colab_type": "text"
      },
      "source": [
        "<a href=\"https://colab.research.google.com/github/Daniil01kzn/Homework/blob/main/Homework_4.ipynb\" target=\"_parent\"><img src=\"https://colab.research.google.com/assets/colab-badge.svg\" alt=\"Open In Colab\"/></a>"
      ]
    },
    {
      "cell_type": "markdown",
      "source": [
        "1.\tНаписать процедуру (функцию), определяющую сумму трехзначных чисел, содержащих только нечетные цифры. Определить также, сколько четных цифр в найденной сумме.\n",
        "2.\tСоставить функцию вычисления суммы факториалов всех четных чисел от m до n.\n",
        "3.\tНачав тренировки, спортсмен в первый день пробежал 10 км. Каждый день он увеличивал дневную норму на 10% от нормы предыдущего дня. Какой суммарный путь пробежит спортсмен за 7 дней?\n"
      ],
      "metadata": {
        "id": "DnAcHFR66C4d"
      }
    },
    {
      "cell_type": "code",
      "execution_count": 8,
      "metadata": {
        "id": "QZo9OjOL5iNl",
        "outputId": "3bde7d70-cdd8-4397-d8b1-80cfc8f1467e",
        "colab": {
          "base_uri": "https://localhost:8080/"
        }
      },
      "outputs": [
        {
          "output_type": "stream",
          "name": "stdout",
          "text": [
            "69375\n"
          ]
        },
        {
          "output_type": "execute_result",
          "data": {
            "text/plain": [
              "(6, 1)"
            ]
          },
          "metadata": {},
          "execution_count": 8
        }
      ],
      "source": [
        "#1\n",
        "def Function1 ():\n",
        "  s = 0\n",
        "  h = 0\n",
        "  for i in range (100,1000):\n",
        "    a = i//100\n",
        "    b = (i//10)%10\n",
        "    c = i%10\n",
        "    if a%2==1 and b%2==1 and c%2==1:\n",
        "      s=s+i\n",
        "  print (s)\n",
        "  while s//10 > 0:\n",
        "    if (s%10)%2==0:\n",
        "      h = h+1\n",
        "      s = s//10\n",
        "    else:\n",
        "      s = s//10\n",
        "    if s%2==0: #если первая цифра суммы трехзначных чисел чётное, то мы его проверяем на четность, иначе из-за условия s//10 > 0 его не засчитает код\n",
        "      h = h+1\n",
        "\n",
        "  return s, h\n",
        "\n",
        "Function1 ()"
      ]
    },
    {
      "cell_type": "code",
      "source": [
        "#2\n",
        "import math\n",
        "def Function2 (m, n):\n",
        "  s = 0\n",
        "  for i in range (m,n+1):\n",
        "    if i%2==0:\n",
        "      s=s+math.factorial(i)\n",
        "  print (s)\n",
        "  return s\n",
        "\n",
        "Function2 (10,20)"
      ],
      "metadata": {
        "id": "9jaubShj_Aj6",
        "outputId": "6c929f65-5392-40cc-9434-b3654a18cf39",
        "colab": {
          "base_uri": "https://localhost:8080/"
        }
      },
      "execution_count": null,
      "outputs": [
        {
          "output_type": "stream",
          "name": "stdout",
          "text": [
            "2439325392333177600\n"
          ]
        },
        {
          "output_type": "execute_result",
          "data": {
            "text/plain": [
              "2439325392333177600"
            ]
          },
          "metadata": {},
          "execution_count": 4
        }
      ]
    },
    {
      "cell_type": "code",
      "source": [
        "#3\n",
        "def Function3 (n):\n",
        "  s = 10\n",
        "  h = 10\n",
        "  for i in range (2, n+1):\n",
        "    s = s*1.1\n",
        "    h = h+s\n",
        "  return h\n",
        "\n",
        "Function3 (7)"
      ],
      "metadata": {
        "id": "QiLvtrmOA4UP",
        "outputId": "b538aa38-ffe8-41bd-c7fa-afd38f45a66c",
        "colab": {
          "base_uri": "https://localhost:8080/"
        }
      },
      "execution_count": null,
      "outputs": [
        {
          "output_type": "execute_result",
          "data": {
            "text/plain": [
              "94.87171000000001"
            ]
          },
          "metadata": {},
          "execution_count": 2
        }
      ]
    }
  ]
}