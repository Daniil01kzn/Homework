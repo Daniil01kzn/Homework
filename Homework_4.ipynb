{
  "nbformat": 4,
  "nbformat_minor": 0,
  "metadata": {
    "colab": {
      "provenance": [],
      "authorship_tag": "ABX9TyNgYonwfoeLkRMD1VnWr6fv",
      "include_colab_link": true
    },
    "kernelspec": {
      "name": "python3",
      "display_name": "Python 3"
    },
    "language_info": {
      "name": "python"
    }
  },
  "cells": [
    {
      "cell_type": "markdown",
      "metadata": {
        "id": "view-in-github",
        "colab_type": "text"
      },
      "source": [
        "<a href=\"https://colab.research.google.com/github/Daniil01kzn/Homework/blob/main/Homework_4.ipynb\" target=\"_parent\"><img src=\"https://colab.research.google.com/assets/colab-badge.svg\" alt=\"Open In Colab\"/></a>"
      ]
    },
    {
      "cell_type": "markdown",
      "source": [
        "1.\tНаписать процедуру (функцию), определяющую сумму трехзначных чисел, содержащих только нечетные цифры. Определить также, сколько четных цифр в найденной сумме.\n",
        "2.\tСоставить функцию вычисления суммы факториалов всех четных чисел от m до n.\n",
        "3.\tНачав тренировки, спортсмен в первый день пробежал 10 км. Каждый день он увеличивал дневную норму на 10% от нормы предыдущего дня. Какой суммарный путь пробежит спортсмен за 7 дней?\n"
      ],
      "metadata": {
        "id": "DnAcHFR66C4d"
      }
    },
    {
      "cell_type": "code",
      "execution_count": 42,
      "metadata": {
        "id": "QZo9OjOL5iNl"
      },
      "outputs": [],
      "source": [
        "#1\n",
        "def Function1 ():\n",
        "  s = 0\n",
        "  h = 0\n",
        "  for i in range (100,1000):\n",
        "    a = i//100\n",
        "    b = (i//10)%10\n",
        "    c = i%10\n",
        "    if a%2==1 and b%2==1 and c%2==1:\n",
        "      s=s+i\n",
        "  print (s)\n",
        "  while s > 0:\n",
        "    if (s%10)%2==0:\n",
        "      h = h+1\n",
        "      s = s//10\n",
        "\n",
        "  return s, h"
      ]
    },
    {
      "cell_type": "code",
      "source": [
        "Function1 ()\n",
        "print (s, h)"
      ],
      "metadata": {
        "colab": {
          "base_uri": "https://localhost:8080/"
        },
        "id": "qKgDVAxR8SNG",
        "outputId": "7a5e30dc-ea40-49c1-fbf3-9e1c9d9b7ea0"
      },
      "execution_count": null,
      "outputs": [
        {
          "output_type": "stream",
          "name": "stdout",
          "text": [
            "69375\n"
          ]
        }
      ]
    },
    {
      "cell_type": "code",
      "source": [
        "#2\n",
        "import math\n",
        "def Function2 (m, n):\n",
        "  s = 0\n",
        "  for i in range (m,n+1):\n",
        "    if i%2==0:\n",
        "      s=s+math.factorial(i)\n",
        "  print (s)\n",
        "  return s"
      ],
      "metadata": {
        "id": "9jaubShj_Aj6"
      },
      "execution_count": null,
      "outputs": []
    },
    {
      "cell_type": "code",
      "source": [
        "Function2 (10,20)\n",
        "print (s)"
      ],
      "metadata": {
        "id": "GvRNm0Hz_o_C"
      },
      "execution_count": null,
      "outputs": []
    },
    {
      "cell_type": "code",
      "source": [
        "#3\n",
        "def Function3 (n):\n",
        "  s = 10\n",
        "  h = 10\n",
        "  for i in range (2, n+1):\n",
        "    s = s*1.1\n",
        "    h = h+s\n",
        "  return h"
      ],
      "metadata": {
        "id": "QiLvtrmOA4UP"
      },
      "execution_count": 40,
      "outputs": []
    },
    {
      "cell_type": "code",
      "source": [
        "Function3 (7)\n",
        "print (h)"
      ],
      "metadata": {
        "colab": {
          "base_uri": "https://localhost:8080/",
          "height": 159
        },
        "id": "npPB2Bn8BTY3",
        "outputId": "ef05b9a4-1aae-4a01-f9b1-f1f3f4a86346"
      },
      "execution_count": 41,
      "outputs": [
        {
          "output_type": "error",
          "ename": "NameError",
          "evalue": "name 'h' is not defined",
          "traceback": [
            "\u001b[0;31m---------------------------------------------------------------------------\u001b[0m",
            "\u001b[0;31mNameError\u001b[0m                                 Traceback (most recent call last)",
            "\u001b[0;32m<ipython-input-41-ea1b9780c587>\u001b[0m in \u001b[0;36m<cell line: 0>\u001b[0;34m()\u001b[0m\n\u001b[1;32m      1\u001b[0m \u001b[0mFunction3\u001b[0m \u001b[0;34m(\u001b[0m\u001b[0;36m7\u001b[0m\u001b[0;34m)\u001b[0m\u001b[0;34m\u001b[0m\u001b[0;34m\u001b[0m\u001b[0m\n\u001b[0;32m----> 2\u001b[0;31m \u001b[0mprint\u001b[0m \u001b[0;34m(\u001b[0m\u001b[0mh\u001b[0m\u001b[0;34m)\u001b[0m\u001b[0;34m\u001b[0m\u001b[0;34m\u001b[0m\u001b[0m\n\u001b[0m",
            "\u001b[0;31mNameError\u001b[0m: name 'h' is not defined"
          ]
        }
      ]
    }
  ]
}