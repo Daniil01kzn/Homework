{
  "nbformat": 4,
  "nbformat_minor": 0,
  "metadata": {
    "colab": {
      "provenance": [],
      "authorship_tag": "ABX9TyN2xlISdenUkqQi/svlWaQE",
      "include_colab_link": true
    },
    "kernelspec": {
      "name": "python3",
      "display_name": "Python 3"
    },
    "language_info": {
      "name": "python"
    }
  },
  "cells": [
    {
      "cell_type": "markdown",
      "metadata": {
        "id": "view-in-github",
        "colab_type": "text"
      },
      "source": [
        "<a href=\"https://colab.research.google.com/github/Daniil01kzn/Homework/blob/main/%D0%A0%D0%B0%D0%B1%D0%BE%D1%82%D0%B0_2.ipynb\" target=\"_parent\"><img src=\"https://colab.research.google.com/assets/colab-badge.svg\" alt=\"Open In Colab\"/></a>"
      ]
    },
    {
      "cell_type": "code",
      "execution_count": 6,
      "metadata": {
        "colab": {
          "base_uri": "https://localhost:8080/"
        },
        "id": "S2anbd1zcwQo",
        "outputId": "6e57cf20-f195-4fa3-9cf6-bc889ae5ca8e"
      },
      "outputs": [
        {
          "output_type": "stream",
          "name": "stdout",
          "text": [
            "x=1\n",
            "8.583853163452858\n"
          ]
        }
      ],
      "source": [
        "#1\n",
        "import math\n",
        "x = float(input('x='))\n",
        "y = 0\n",
        "if x>-4:\n",
        "  y = math.cos(2*x)+9\n",
        "else:\n",
        "  y=-(math.cos(x))/(x-9)\n",
        "print (y)\n"
      ]
    },
    {
      "cell_type": "code",
      "source": [
        "#2\n",
        "a = float(input('a=')) #установленная норма, мин.\n",
        "b = float(input('b=')) #плата за разговоры в пределах установленной нормы, руб\n",
        "c = float(input('c=')) #плата за разговоры свыше установленной нормы, руб/мин\n",
        "y = float(input('y=')) #фактическое количество минут разговоров, мин.\n",
        "x = 0 #общая плата за разговоры в месяц, руб.\n",
        "if y<a:\n",
        "  x = b\n",
        "else:\n",
        "  x = b + (y-a)*c\n",
        "print (x)\n"
      ],
      "metadata": {
        "colab": {
          "base_uri": "https://localhost:8080/"
        },
        "id": "HF2YbUBUeyuk",
        "outputId": "a56f4a50-9232-412a-b3c9-cbd59e00579f"
      },
      "execution_count": 11,
      "outputs": [
        {
          "output_type": "stream",
          "name": "stdout",
          "text": [
            "a=60\n",
            "b=120\n",
            "c=2\n",
            "y=240\n",
            "480\n"
          ]
        }
      ]
    },
    {
      "cell_type": "code",
      "source": [
        "#3\n",
        "a = float(input('a='))\n",
        "b = float(input('b='))\n",
        "c = float(input('c='))\n",
        "d = float(input('d='))\n",
        "if a==b"
      ],
      "metadata": {
        "id": "2h04gv35hxNZ"
      },
      "execution_count": null,
      "outputs": []
    }
  ]
}