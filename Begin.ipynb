{
  "nbformat": 4,
  "nbformat_minor": 0,
  "metadata": {
    "colab": {
      "provenance": [],
      "authorship_tag": "ABX9TyPi9hfZwaQndzngZXapjN6Q",
      "include_colab_link": true
    },
    "kernelspec": {
      "name": "python3",
      "display_name": "Python 3"
    },
    "language_info": {
      "name": "python"
    }
  },
  "cells": [
    {
      "cell_type": "markdown",
      "metadata": {
        "id": "view-in-github",
        "colab_type": "text"
      },
      "source": [
        "<a href=\"https://colab.research.google.com/github/Daniil01kzn/Homework/blob/main/Begin.ipynb\" target=\"_parent\"><img src=\"https://colab.research.google.com/assets/colab-badge.svg\" alt=\"Open In Colab\"/></a>"
      ]
    },
    {
      "cell_type": "markdown",
      "source": [],
      "metadata": {
        "id": "Ro5RhRqP62cG"
      }
    },
    {
      "cell_type": "markdown",
      "source": [
        "Begin11. Даны два ненулевых числа. Найти сумму, разность, произведение и частное их модулей\n",
        "Begin25. Найти значение функции y = 3·x^6 – 6·x^2 – 7 при данном значении x\n",
        "Begin33. Известно, что X кг конфет стоит A рублей. Определить, сколько стоит 1 кг и Y кг этих же конфет\n",
        "Begin37. Скорость первого автомобиля V1 км/ч, второго — V2 км/ч, расстояние между ними S км. Определить расстояние между ними через T часов, если автомобили первоначально движутся навстречу друг другу. Данное расстояние равно модулю разности начального расстояния и общего пути, проделанного автомобилями; общий путь = время · суммарная скорость.\n",
        "Begin14. Дана длина L окружности. Найти ее радиус R и площадь S круга, ограниченного этой окружностью, учитывая, что L = 2·π·R, S = π·R2 . В качестве значения π использовать 3.14."
      ],
      "metadata": {
        "id": "M5L588SvNsFI"
      }
    },
    {
      "cell_type": "code",
      "source": [],
      "metadata": {
        "id": "V0SUWr9j7AMF"
      },
      "execution_count": null,
      "outputs": []
    },
    {
      "cell_type": "code",
      "execution_count": 2,
      "metadata": {
        "colab": {
          "base_uri": "https://localhost:8080/"
        },
        "id": "S2anbd1zcwQo",
        "outputId": "cf1d5184-7df4-4b6e-d5b9-f7974c0a8470"
      },
      "outputs": [
        {
          "output_type": "stream",
          "name": "stdout",
          "text": [
            "x=5\n",
            "y=6\n",
            "11 -1 30 0.8333333333333334\n"
          ]
        }
      ],
      "source": [
        "#begin11\n",
        "import math\n",
        "x = int(input('x='))\n",
        "y = int(input('y='))\n",
        "s = abs(x)+abs(y)\n",
        "d = abs(x)-abs(y)\n",
        "c = abs(x)*abs(y)\n",
        "p = abs(x)/abs(y)\n",
        "print (s,d,c,p)"
      ]
    },
    {
      "cell_type": "code",
      "source": [
        "#begin25\n",
        "x = int(input('x='))\n",
        "y = 3*x**6 - 6*x**2 - 7\n",
        "print (y)"
      ],
      "metadata": {
        "id": "BrdDA1k9QHiY",
        "outputId": "39692c73-b0d6-4378-9346-bf6cd1a56659",
        "colab": {
          "base_uri": "https://localhost:8080/"
        }
      },
      "execution_count": 4,
      "outputs": [
        {
          "output_type": "stream",
          "name": "stdout",
          "text": [
            "x=7\n",
            "352646\n"
          ]
        }
      ]
    },
    {
      "cell_type": "code",
      "source": [
        "#begin33\n",
        "x = int(input('x='))\n",
        "a = int(input('a='))\n",
        "y = int(input('y='))\n",
        "c = x/a\n",
        "d = c*y\n",
        "print (c, \"руб за 1 кг\")\n",
        "print (d, \"руб за\", y, \"кг\")"
      ],
      "metadata": {
        "id": "_5s23TJYQWlF",
        "outputId": "891378bb-b28c-4bf7-8430-5951464d9253",
        "colab": {
          "base_uri": "https://localhost:8080/"
        }
      },
      "execution_count": 14,
      "outputs": [
        {
          "output_type": "stream",
          "name": "stdout",
          "text": [
            "x=10\n",
            "a=2\n",
            "y=3\n",
            "5.0 руб за 1 кг\n",
            "15.0 руб за 3 кг\n"
          ]
        }
      ]
    },
    {
      "cell_type": "code",
      "source": [
        "#begin37\n",
        "v1 = int(input('v1='))\n",
        "v2 = int(input('v2='))\n",
        "s = int(input('s='))\n",
        "t = int(input('t='))\n",
        "s2 = s-t*(v1+v2)\n",
        "print (s2, \"km\")"
      ],
      "metadata": {
        "id": "QV5_iEtYSiJA",
        "outputId": "02dfb5d9-ffff-445f-a50f-b58278ef9671",
        "colab": {
          "base_uri": "https://localhost:8080/"
        }
      },
      "execution_count": 16,
      "outputs": [
        {
          "output_type": "stream",
          "name": "stdout",
          "text": [
            "v1=30\n",
            "v2=50\n",
            "s=1000\n",
            "t=3\n",
            "760 km\n"
          ]
        }
      ]
    },
    {
      "cell_type": "code",
      "source": [
        "import math\n",
        "l = int(input('l='))\n",
        "r = l/(2*math.pi)\n",
        "s = math.pi*r**2\n",
        "print (r, s)"
      ],
      "metadata": {
        "id": "SjM50Ru6TWXx",
        "outputId": "cbe5afc1-4664-4d4e-c40a-e0af2cd102da",
        "colab": {
          "base_uri": "https://localhost:8080/"
        }
      },
      "execution_count": 17,
      "outputs": [
        {
          "output_type": "stream",
          "name": "stdout",
          "text": [
            "l=30\n",
            "4.7746482927568605 71.61972439135292\n"
          ]
        }
      ]
    }
  ]
}