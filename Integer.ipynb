{
  "nbformat": 4,
  "nbformat_minor": 0,
  "metadata": {
    "colab": {
      "provenance": [],
      "authorship_tag": "ABX9TyOtzBUFZl2uwtEmbed35kCh",
      "include_colab_link": true
    },
    "kernelspec": {
      "name": "python3",
      "display_name": "Python 3"
    },
    "language_info": {
      "name": "python"
    }
  },
  "cells": [
    {
      "cell_type": "markdown",
      "metadata": {
        "id": "view-in-github",
        "colab_type": "text"
      },
      "source": [
        "<a href=\"https://colab.research.google.com/github/Daniil01kzn/Homework/blob/main/Integer.ipynb\" target=\"_parent\"><img src=\"https://colab.research.google.com/assets/colab-badge.svg\" alt=\"Open In Colab\"/></a>"
      ]
    },
    {
      "cell_type": "markdown",
      "source": [],
      "metadata": {
        "id": "Ro5RhRqP62cG"
      }
    },
    {
      "cell_type": "markdown",
      "source": [
        "Integer11°. Дано трехзначное число. Найти сумму и произведение его цифр\n",
        "Integer1. Дано расстояние L в сантиметрах. Используя операцию деления нацело, найти количество полных метров в нем (1 метр = 100 см)\n",
        "Integer30. Дан номер некоторого года (целое положительное число). Определить соответствующий ему номер столетия, учитывая, что, к примеру, началом 20 столетия был 1901 год\n",
        "Integer26. Дни недели пронумерованы следующим образом: 1 — понедельник, 2 — вторник, …, 6 — суббота, 7 — воскресенье. Дано целое число K, лежащее в диапазоне 1–365. Определить номер дня недели для K-го дня года, если известно, что в этом году 1 января было вторником\n",
        "Integer23. С начала суток прошло N секунд (N — целое). Найти количество полных минут, прошедших с начала последнего часа."
      ],
      "metadata": {
        "id": "M5L588SvNsFI"
      }
    },
    {
      "cell_type": "code",
      "source": [],
      "metadata": {
        "id": "V0SUWr9j7AMF"
      },
      "execution_count": null,
      "outputs": []
    },
    {
      "cell_type": "code",
      "execution_count": 2,
      "metadata": {
        "colab": {
          "base_uri": "https://localhost:8080/"
        },
        "id": "S2anbd1zcwQo",
        "outputId": "bf9193f5-babf-4390-fc72-256c1982db4d"
      },
      "outputs": [
        {
          "output_type": "stream",
          "name": "stdout",
          "text": [
            "x=123\n",
            "6 6\n"
          ]
        }
      ],
      "source": [
        "#integer11\n",
        "x = int(input('x='))\n",
        "a = x%10\n",
        "b = x//10\n",
        "c = b//10\n",
        "d = b%10\n",
        "s = a+c+d\n",
        "p = a*c*d\n",
        "print (s,p)"
      ]
    },
    {
      "cell_type": "code",
      "source": [
        "#integer1\n",
        "l = int(input('l='))\n",
        "m = l//100\n",
        "print (m)"
      ],
      "metadata": {
        "colab": {
          "base_uri": "https://localhost:8080/"
        },
        "id": "BrdDA1k9QHiY",
        "outputId": "4e4d8d14-dadf-43f8-a5a8-3b3a084de871"
      },
      "execution_count": 4,
      "outputs": [
        {
          "output_type": "stream",
          "name": "stdout",
          "text": [
            "l=123\n",
            "1\n"
          ]
        }
      ]
    },
    {
      "cell_type": "code",
      "source": [
        "#integer30\n",
        "x = int(input('x='))\n",
        "m = x//100 + 1\n",
        "print (m)"
      ],
      "metadata": {
        "colab": {
          "base_uri": "https://localhost:8080/"
        },
        "id": "_5s23TJYQWlF",
        "outputId": "64f09d53-5923-412d-e25b-4c38f430a9b1"
      },
      "execution_count": 6,
      "outputs": [
        {
          "output_type": "stream",
          "name": "stdout",
          "text": [
            "x=1901\n",
            "20\n"
          ]
        }
      ]
    },
    {
      "cell_type": "code",
      "source": [
        "#integer26\n",
        "k = int(input('k='))\n",
        "x = k%7+1\n",
        "print (x)"
      ],
      "metadata": {
        "colab": {
          "base_uri": "https://localhost:8080/"
        },
        "id": "QV5_iEtYSiJA",
        "outputId": "daf734f3-add7-4194-e519-a758f46ba22f"
      },
      "execution_count": 9,
      "outputs": [
        {
          "output_type": "stream",
          "name": "stdout",
          "text": [
            "k=4\n",
            "5\n"
          ]
        }
      ]
    },
    {
      "cell_type": "code",
      "source": [
        "#integer23\n",
        "n = int(input('n='))\n",
        "x = n%3600\n",
        "print (x)"
      ],
      "metadata": {
        "colab": {
          "base_uri": "https://localhost:8080/"
        },
        "id": "SjM50Ru6TWXx",
        "outputId": "9918a43a-a0ec-443f-a0c3-96a2402d9e68"
      },
      "execution_count": 10,
      "outputs": [
        {
          "output_type": "stream",
          "name": "stdout",
          "text": [
            "n=3700\n",
            "100\n"
          ]
        }
      ]
    }
  ]
}