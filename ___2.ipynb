{
  "nbformat": 4,
  "nbformat_minor": 0,
  "metadata": {
    "colab": {
      "provenance": [],
      "authorship_tag": "ABX9TyP2lD87bmb2ACwB6lQC9WMk",
      "include_colab_link": true
    },
    "kernelspec": {
      "name": "python3",
      "display_name": "Python 3"
    },
    "language_info": {
      "name": "python"
    }
  },
  "cells": [
    {
      "cell_type": "markdown",
      "metadata": {
        "id": "view-in-github",
        "colab_type": "text"
      },
      "source": [
        "<a href=\"https://colab.research.google.com/github/Daniil01kzn/Homework/blob/main/___2.ipynb\" target=\"_parent\"><img src=\"https://colab.research.google.com/assets/colab-badge.svg\" alt=\"Open In Colab\"/></a>"
      ]
    },
    {
      "cell_type": "code",
      "execution_count": null,
      "metadata": {
        "colab": {
          "base_uri": "https://localhost:8080/"
        },
        "id": "S2anbd1zcwQo",
        "outputId": "6e57cf20-f195-4fa3-9cf6-bc889ae5ca8e"
      },
      "outputs": [
        {
          "output_type": "stream",
          "name": "stdout",
          "text": [
            "x=1\n",
            "8.583853163452858\n"
          ]
        }
      ],
      "source": [
        "#1\n",
        "import math\n",
        "x = float(input('x='))\n",
        "y = 0\n",
        "if x>-4:\n",
        "  y = math.cos(2*x)+9\n",
        "else:\n",
        "  y=-(math.cos(x))/(x-9)\n",
        "print (y)\n"
      ]
    },
    {
      "cell_type": "code",
      "source": [
        "#2\n",
        "a = float(input('a=')) #установленная норма, мин.\n",
        "b = float(input('b=')) #плата за разговоры в пределах установленной нормы, руб\n",
        "c = float(input('c=')) #плата за разговоры свыше установленной нормы, руб/мин\n",
        "y = float(input('y=')) #фактическое количество минут разговоров, мин.\n",
        "x = 0 #общая плата за разговоры в месяц, руб.\n",
        "if y<a:\n",
        "  x = b\n",
        "else:\n",
        "  x = b + (y-a)*c\n",
        "print (x)\n"
      ],
      "metadata": {
        "colab": {
          "base_uri": "https://localhost:8080/"
        },
        "id": "HF2YbUBUeyuk",
        "outputId": "a56f4a50-9232-412a-b3c9-cbd59e00579f"
      },
      "execution_count": null,
      "outputs": [
        {
          "output_type": "stream",
          "name": "stdout",
          "text": [
            "a=60\n",
            "b=120\n",
            "c=2\n",
            "y=240\n",
            "480\n"
          ]
        }
      ]
    },
    {
      "cell_type": "code",
      "source": [
        "#3\n",
        "a = float(input('a='))\n",
        "b = float(input('b='))\n",
        "c = float(input('c='))\n",
        "d = float(input('d='))\n",
        "if a==b and b==c:\n",
        "  print (d)\n",
        "if c==b and b==d:\n",
        "  print (a)\n",
        "if a==b and b==d:\n",
        "  print (c)\n",
        "if a==c and c==d:\n",
        "  print (b)"
      ],
      "metadata": {
        "colab": {
          "base_uri": "https://localhost:8080/"
        },
        "id": "2h04gv35hxNZ",
        "outputId": "e8aa9d08-930f-4322-9f4a-9c62af28fd7a"
      },
      "execution_count": null,
      "outputs": [
        {
          "output_type": "stream",
          "name": "stdout",
          "text": [
            "a=95\n",
            "b=95\n",
            "c=95\n",
            "d=-1\n",
            "-1.0\n"
          ]
        }
      ]
    },
    {
      "cell_type": "code",
      "source": [
        "#4 (a)\n",
        "a = float(input('a='))\n",
        "s = a%10 + a//10\n",
        "if s>9 and s<100:\n",
        "  print ('сумма цифр числа а =', s)\n",
        "else:\n",
        "  print ('сумма цифр а не является двухзначным числом')"
      ],
      "metadata": {
        "colab": {
          "base_uri": "https://localhost:8080/"
        },
        "id": "bYI4z3xMzA7W",
        "outputId": "7c351eb6-c791-4e76-e8ac-8a3c96a4e9e4"
      },
      "execution_count": null,
      "outputs": [
        {
          "output_type": "stream",
          "name": "stdout",
          "text": [
            "a=67\n",
            "сумма цифр числа а = 13.0\n"
          ]
        }
      ]
    },
    {
      "cell_type": "code",
      "source": [
        "#4 (b)\n",
        "a = float(input('a='))\n",
        "s = a%10 + a//10\n",
        "if s>a:\n",
        "  print ('число а меньше суммы его цифр')\n",
        "else:\n",
        "  print ('число а больше суммы его цифр')"
      ],
      "metadata": {
        "colab": {
          "base_uri": "https://localhost:8080/"
        },
        "id": "haDIty1A1IvJ",
        "outputId": "bed2cd4a-8303-4069-bd7d-7f192bbb1b14"
      },
      "execution_count": null,
      "outputs": [
        {
          "output_type": "stream",
          "name": "stdout",
          "text": [
            "a=98\n",
            "число а больше суммы его цифр\n"
          ]
        }
      ]
    },
    {
      "cell_type": "code",
      "source": [
        "#5 (a)\n",
        "a = float(input('a='))\n",
        "b = float(input('b='))\n",
        "c = float(input('c='))\n",
        "d = float(input('d='))\n",
        "a <= 8 and b <= 8 and c <= 8 and d<= 8\n",
        "if a%2 == b%2 and c%2 == d%2:\n",
        "  print ('белая фигура попадет под удар чёрной')\n",
        "else:\n",
        "  if a%2 != b%2 and c%2 != d%2:\n",
        "    print ('белая фигура попадет под удар чёрной')\n",
        "  else:\n",
        "    print ('белая фигура не попадет под удар чёрной')"
      ],
      "metadata": {
        "colab": {
          "base_uri": "https://localhost:8080/"
        },
        "id": "KAY-88LEmcBq",
        "outputId": "8d8da5dc-c68a-4805-f08d-b6f85a5a0f06"
      },
      "execution_count": null,
      "outputs": [
        {
          "output_type": "stream",
          "name": "stdout",
          "text": [
            "a=5\n",
            "b=4\n",
            "c=3\n",
            "d=6\n",
            "белая фигура попадет под удар чёрной\n"
          ]
        }
      ]
    },
    {
      "cell_type": "code",
      "source": [
        "#5 (a)6\n",
        "a = float(input('a='))\n",
        "b = float(input('b='))\n",
        "c = float(input('c='))\n",
        "d = float(input('d='))\n",
        "e = float(input('e='))\n",
        "f = float(input('f='))\n",
        "x1 = abs(a-c)\n",
        "x2 = abs(b-f)\n",
        "x3 = abs(c-e)\n",
        "x4 = abs(d-f)\n",
        "a <= 8 and b <= 8 and c <= 8 and d<= 8 and e <= 8 and f<= 8 and x1 == x2 and x1<= 8 and x2 <=8\n",
        "if x3 == x4 and x3 <= 8 and x4 <= 8:\n",
        "  print ('белая фигура попадет под удар чёрной')\n",
        "else:\n",
        "  print ('белая фигура не попадет под удар чёрной')"
      ],
      "metadata": {
        "colab": {
          "base_uri": "https://localhost:8080/"
        },
        "id": "iKsEA_RMlgOI",
        "outputId": "a21ac273-af95-4703-f70e-8f70879c8410"
      },
      "execution_count": null,
      "outputs": [
        {
          "output_type": "stream",
          "name": "stdout",
          "text": [
            "a=4\n",
            "b=6\n",
            "c=3\n",
            "d=3\n",
            "e=5\n",
            "f=5\n",
            "белая фигура попадет под удар чёрной\n"
          ]
        }
      ]
    },
    {
      "cell_type": "code",
      "source": [
        "#5 (b)\n",
        "a = float(input('a='))\n",
        "b = float(input('b='))\n",
        "c = float(input('c='))\n",
        "d = float(input('d='))\n",
        "e = float(input('e='))\n",
        "f = float(input('f='))\n",
        "x1 = abs(a-c)\n",
        "x2 = abs(b-f)\n",
        "x3 = abs(c-e)\n",
        "x4 = abs(d-f)\n",
        "a <= 8 and b <= 8 and c <= 8 and d<= 8 and e <= 8 and f<= 8 and x1 == x2 and x1<= 8 and x2 <=8\n",
        "if (x3 == x4 and x3 <= 8 and x4 <= 8) or e == c or f == d:\n",
        "  print ('белая фигура попадет под удар чёрной')\n",
        "else:\n",
        "  print ('белая фигура не попадет под удар чёрной')"
      ],
      "metadata": {
        "colab": {
          "base_uri": "https://localhost:8080/"
        },
        "id": "Z2DOt9Feos7R",
        "outputId": "76839919-639e-4867-e636-84b28881ccd4"
      },
      "execution_count": null,
      "outputs": [
        {
          "output_type": "stream",
          "name": "stdout",
          "text": [
            "a=4\n",
            "b=6\n",
            "c=3\n",
            "d=3\n",
            "e=7\n",
            "f=3\n",
            "белая фигура попадет под удар чёрной\n"
          ]
        }
      ]
    },
    {
      "cell_type": "code",
      "source": [
        "#5 (с)\n",
        "a = float(input('a='))\n",
        "b = float(input('b='))\n",
        "c = float(input('c='))\n",
        "d = float(input('d='))\n",
        "e = float(input('e='))\n",
        "f = float(input('f='))\n",
        "x1 = abs(a-c)\n",
        "x2 = abs(b-f)\n",
        "x3 = abs(c-e)\n",
        "x4 = abs(d-f)\n",
        "a <= 8 and b <= 8 and c <= 8 and d<= 8 and e <= 8 and f<= 8 and x1 == x2 and x1<= 8 and x2 <=8\n",
        "if (x3 == 2 and x4 == 1) or (x3 == 1 and x4 == 2):\n",
        "  print ('белая фигура попадет под удар чёрной')\n",
        "else:\n",
        "  print ('белая фигура не попадет под удар чёрной')"
      ],
      "metadata": {
        "colab": {
          "base_uri": "https://localhost:8080/"
        },
        "id": "KZmmjrVUsu-C",
        "outputId": "1c46b10f-1c0e-408b-efb6-59a1e5c8a310"
      },
      "execution_count": null,
      "outputs": [
        {
          "output_type": "stream",
          "name": "stdout",
          "text": [
            "a=4\n",
            "b=5\n",
            "c=3\n",
            "d=3\n",
            "e=5\n",
            "f=4\n",
            "белая фигура попадет под удар чёрной\n"
          ]
        }
      ]
    }
  ]
}