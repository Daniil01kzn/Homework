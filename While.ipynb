{
  "nbformat": 4,
  "nbformat_minor": 0,
  "metadata": {
    "colab": {
      "provenance": [],
      "authorship_tag": "ABX9TyMgSOEDJCo2wpx9/RvDhu19",
      "include_colab_link": true
    },
    "kernelspec": {
      "name": "python3",
      "display_name": "Python 3"
    },
    "language_info": {
      "name": "python"
    }
  },
  "cells": [
    {
      "cell_type": "markdown",
      "metadata": {
        "id": "view-in-github",
        "colab_type": "text"
      },
      "source": [
        "<a href=\"https://colab.research.google.com/github/Daniil01kzn/Homework/blob/main/While.ipynb\" target=\"_parent\"><img src=\"https://colab.research.google.com/assets/colab-badge.svg\" alt=\"Open In Colab\"/></a>"
      ]
    },
    {
      "cell_type": "markdown",
      "source": [
        "While2. Даны положительные числа A и B (A > B). На отрезке длины A размещено максимально возможное количество отрезков длины B (без наложений). Не используя операции умножения и деления, найти количество отрезков B, размещенных на отрезке A\n",
        "While4°. Дано целое число N (> 0). Если оно является степенью числа 3, то вывести True, если не является — вывести False\n",
        "\n",
        "While10. Дано целое число N (> 1). Найти наибольшее целое число K, при котором выполняется неравенство 3^K< N.\n",
        "\n",
        "While30. Даны положительные числа A, B, C. На прямоугольнике размера A × B\n",
        "размещено максимально возможное количество квадратов со стороной C\n",
        "(без наложений). Найти количество квадратов, размещенных на прямоугольнике. Операции умножения и деления не использовать.\n",
        "\n",
        "While22°. Дано целое число N (> 1). Если оно является простым, то есть не\n",
        "имеет положительных делителей, кроме 1 и самого себя, то вывести True,\n",
        "иначе вывести False."
      ],
      "metadata": {
        "id": "bazWremypk5e"
      }
    },
    {
      "cell_type": "code",
      "execution_count": 10,
      "metadata": {
        "colab": {
          "base_uri": "https://localhost:8080/"
        },
        "id": "S2anbd1zcwQo",
        "outputId": "877e46b1-dec0-4dde-e6d4-581ef037c815"
      },
      "outputs": [
        {
          "output_type": "stream",
          "name": "stdout",
          "text": [
            "a=9\n",
            "b=2\n",
            "4\n"
          ]
        }
      ],
      "source": [
        "#2\n",
        "a = float(input('a='))\n",
        "b = float(input('b='))\n",
        "k = 0\n",
        "while a>=b:\n",
        "  k = k+1\n",
        "  a = a-b\n",
        "print (k)"
      ]
    },
    {
      "cell_type": "code",
      "source": [
        "#4\n",
        "n = float(input('n='))\n",
        "k = 0\n",
        "while n%3==0:\n",
        "  k = k+1\n",
        "  n = n//3\n",
        "print (k)\n",
        "if n==1:\n",
        "  print (\"True\")\n",
        "else:\n",
        "  print (\"False\")"
      ],
      "metadata": {
        "colab": {
          "base_uri": "https://localhost:8080/"
        },
        "id": "HF2YbUBUeyuk",
        "outputId": "cdf5cdf5-4954-4977-bd6d-e73e432da61f"
      },
      "execution_count": 18,
      "outputs": [
        {
          "output_type": "stream",
          "name": "stdout",
          "text": [
            "n=84\n",
            "1\n",
            "False\n"
          ]
        }
      ]
    },
    {
      "cell_type": "code",
      "source": [
        "#10\n",
        "import math\n",
        "n = float(input('n='))\n",
        "k = 0\n",
        "while (3**k)<n:\n",
        "  k = k+1\n",
        "print (k-1)"
      ],
      "metadata": {
        "id": "2h04gv35hxNZ",
        "colab": {
          "base_uri": "https://localhost:8080/"
        },
        "outputId": "6031531a-4d1a-4f9a-f7b4-0cb75837965f"
      },
      "execution_count": 24,
      "outputs": [
        {
          "output_type": "stream",
          "name": "stdout",
          "text": [
            "n=89\n",
            "4\n"
          ]
        }
      ]
    },
    {
      "cell_type": "code",
      "source": [
        "#30\n",
        "a = float(input('a='))\n",
        "b = float(input('b='))\n",
        "c = float(input('с='))\n",
        "k = 0\n",
        "while a-c>=0 and b-c>=0:\n",
        "  k = k+1\n",
        "  a = a-c\n",
        "  b = b-c\n",
        "print (k)"
      ],
      "metadata": {
        "id": "bYI4z3xMzA7W",
        "colab": {
          "base_uri": "https://localhost:8080/"
        },
        "outputId": "65822507-e12d-4999-bb7c-7a6b5bd12742"
      },
      "execution_count": 32,
      "outputs": [
        {
          "output_type": "stream",
          "name": "stdout",
          "text": [
            "a=20\n",
            "b=10\n",
            "с=5\n",
            "2\n"
          ]
        }
      ]
    },
    {
      "cell_type": "code",
      "source": [
        "#22\n",
        "n = float(input('n='))\n",
        "k = 1\n",
        "while n//k!=0:\n",
        "  k = k+1\n",
        "print (k-1)\n",
        "if k-1==n:\n",
        "  print (\"True\")\n",
        "else:\n",
        "  print (\"False\")"
      ],
      "metadata": {
        "id": "LQ4fvO_l16cQ",
        "colab": {
          "base_uri": "https://localhost:8080/"
        },
        "outputId": "bab4d945-9fd7-4add-a189-1ef198e1dd39"
      },
      "execution_count": 40,
      "outputs": [
        {
          "output_type": "stream",
          "name": "stdout",
          "text": [
            "n=37\n",
            "37\n",
            "True\n"
          ]
        }
      ]
    }
  ]
}