{
  "nbformat": 4,
  "nbformat_minor": 0,
  "metadata": {
    "colab": {
      "provenance": [],
      "authorship_tag": "ABX9TyNo3WWa9Hipq0kvYbiWSw9H",
      "include_colab_link": true
    },
    "kernelspec": {
      "name": "python3",
      "display_name": "Python 3"
    },
    "language_info": {
      "name": "python"
    }
  },
  "cells": [
    {
      "cell_type": "markdown",
      "metadata": {
        "id": "view-in-github",
        "colab_type": "text"
      },
      "source": [
        "<a href=\"https://colab.research.google.com/github/Daniil01kzn/Homework/blob/main/Boolean.ipynb\" target=\"_parent\"><img src=\"https://colab.research.google.com/assets/colab-badge.svg\" alt=\"Open In Colab\"/></a>"
      ]
    },
    {
      "cell_type": "markdown",
      "source": [],
      "metadata": {
        "id": "Ro5RhRqP62cG"
      }
    },
    {
      "cell_type": "markdown",
      "source": [
        "Boolean1°. Дано целое число A. Проверить истинность высказывания: «Число A является положительным»\n",
        "Boolean10°. Даны два целых числа: A, B. Проверить истинность высказывания: «Ровно одно из чисел A и B нечетное».\n",
        "Boolean25. Даны числа x, y. Проверить истинность высказывания: «Точка с координатами (x, y) лежит во второй координатной четверти».\n",
        "Boolean40. Даны координаты двух различных полей шахматной доски x1, y1, x2, y2 (целые числа, лежащие в диапазоне 1–8). Проверить истинность высказывания: «Конь за один ход может перейти с одного поля на другое»\n",
        "Boolean33. Даны целые числа a, b, c. Проверить истинность высказывания: «Существует треугольник со сторонами a, b, c»."
      ],
      "metadata": {
        "id": "M5L588SvNsFI"
      }
    },
    {
      "cell_type": "code",
      "source": [],
      "metadata": {
        "id": "V0SUWr9j7AMF"
      },
      "execution_count": null,
      "outputs": []
    },
    {
      "cell_type": "code",
      "execution_count": 12,
      "metadata": {
        "colab": {
          "base_uri": "https://localhost:8080/"
        },
        "id": "S2anbd1zcwQo",
        "outputId": "d0c11f94-dae4-48e3-8303-c1b70157acee"
      },
      "outputs": [
        {
          "output_type": "stream",
          "name": "stdout",
          "text": [
            "a=-45\n",
            "False\n"
          ]
        }
      ],
      "source": [
        "#boolean1\n",
        "a = int(input('a='))\n",
        "result = a > 0\n",
        "print(result)"
      ]
    },
    {
      "cell_type": "code",
      "source": [
        "#boolean10\n",
        "a = int(input('a='))\n",
        "b = int(input('b='))\n",
        "result = a*b < 0\n",
        "print(result)"
      ],
      "metadata": {
        "colab": {
          "base_uri": "https://localhost:8080/"
        },
        "id": "BrdDA1k9QHiY",
        "outputId": "838bd3f7-560e-4b37-c510-8120cbee26e8"
      },
      "execution_count": 17,
      "outputs": [
        {
          "output_type": "stream",
          "name": "stdout",
          "text": [
            "a=23\n",
            "b=-14\n",
            "True\n"
          ]
        }
      ]
    },
    {
      "cell_type": "code",
      "source": [
        "#boolean25\n",
        "x = int(input('x='))\n",
        "y = int(input('y='))\n",
        "result = x < 0 and y > 0\n",
        "print (result)"
      ],
      "metadata": {
        "colab": {
          "base_uri": "https://localhost:8080/"
        },
        "id": "_5s23TJYQWlF",
        "outputId": "ce9925d3-ac14-45fa-ff54-e7d31866f71f"
      },
      "execution_count": 20,
      "outputs": [
        {
          "output_type": "stream",
          "name": "stdout",
          "text": [
            "x=-89\n",
            "y=96\n",
            "True\n"
          ]
        }
      ]
    },
    {
      "cell_type": "code",
      "source": [
        "#boolean40\n",
        "import math\n",
        "x1 = int(input('x1='))\n",
        "y1= int(input('y1='))\n",
        "x2 = int(input('x2='))\n",
        "y2 = int(input('y2='))\n",
        "a = math.fabs(y2-y1)\n",
        "b = math.fabs(x2-x1)\n",
        "result = a==2 and b==1 or a==1 and b==2\n",
        "print (result)"
      ],
      "metadata": {
        "colab": {
          "base_uri": "https://localhost:8080/"
        },
        "id": "QV5_iEtYSiJA",
        "outputId": "41e97a57-8df8-4160-fca2-e2fb79e51f5d"
      },
      "execution_count": 27,
      "outputs": [
        {
          "output_type": "stream",
          "name": "stdout",
          "text": [
            "x1=3\n",
            "y1=3\n",
            "x2=5\n",
            "y2=5\n",
            "False\n"
          ]
        }
      ]
    },
    {
      "cell_type": "code",
      "source": [
        "#boolean33\n",
        "a = int(input('a='))\n",
        "b= int(input('b='))\n",
        "c = int(input('c='))\n",
        "result = a+b>c and b+c>a and a+c>b\n",
        "print (result)"
      ],
      "metadata": {
        "colab": {
          "base_uri": "https://localhost:8080/"
        },
        "id": "SjM50Ru6TWXx",
        "outputId": "c931a5e7-0fdc-418b-8a7b-d5729c7e35b5"
      },
      "execution_count": 29,
      "outputs": [
        {
          "output_type": "stream",
          "name": "stdout",
          "text": [
            "a=3\n",
            "b=3\n",
            "c=9\n",
            "False\n"
          ]
        }
      ]
    }
  ]
}