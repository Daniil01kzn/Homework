{
  "nbformat": 4,
  "nbformat_minor": 0,
  "metadata": {
    "colab": {
      "provenance": [],
      "authorship_tag": "ABX9TyPBPFpgKIUlre1S0p0kLMKL",
      "include_colab_link": true
    },
    "kernelspec": {
      "name": "python3",
      "display_name": "Python 3"
    },
    "language_info": {
      "name": "python"
    }
  },
  "cells": [
    {
      "cell_type": "markdown",
      "metadata": {
        "id": "view-in-github",
        "colab_type": "text"
      },
      "source": [
        "<a href=\"https://colab.research.google.com/github/Daniil01kzn/Homework/blob/main/Daniil_Proc_5%D0%B7%D0%B0%D0%B4%D0%B0%D1%87.ipynb\" target=\"_parent\"><img src=\"https://colab.research.google.com/assets/colab-badge.svg\" alt=\"Open In Colab\"/></a>"
      ]
    },
    {
      "cell_type": "markdown",
      "source": [
        "Proc5. Описать процедуру RectPS(x1, y1, x2, y2, P, S), вычисляющую периметр P и площадь S прямоугольника со сторонами, параллельными осям координат, по координатам (x1, y1), (x2, y2) его противоположных вершин (x1, y1, x2, y2 — входные, P и S — выходные параметры вещественного типа). С помощью этой процедуры найти периметры и площади трех прямоугольников с данными противоположными вершинами.\n",
        "Proc15. Описать процедуру ShiftLeft3(A, B, C), выполняющую левый циклический сдвиг: значение A переходит в C, значение C — в B, значение B — в A (A, B, C — вещественные параметры, являющиеся одновременно входными и выходными). С помощью этой процедуры выполнить левый циклический сдвиг для двух данных наборов из трех чисел: (A1, B1, C1) и (A2, B2, C2).\n",
        "Proc17. Описать функцию RootCount(A, B, C) целого типа, определяющую количество корней квадратного уравнения A·x 2 + B·x + C = 0 (A, B, C — вещественные параметры, A ≠ 0). С ее помощью найти количество корней для каждого из трех квадратных уравнений с данными коэффициентами. Количество корней определять по значению дискриминанта: D = B2 – 4·A·C.\n",
        "Proc35. Описать функцию Fact2(N) вещественного типа, вычисляющую двойной факториал: N!! = 1·3·5·…·N, если N — нечетное; N!! = 2·4·6·…·N, если N — четное (N > 0 — параметр целого типа; вещественное возвращаемое значение используется для того, чтобы избежать целочисленного переполнения при больших значениях N). С помощью этой функции найти двойные факториалы пяти данных целых чисел.\n",
        "Proc52. Описать функцию IsLeapYear(Y) логического типа, которая возвращает True, если год Y (целое положительное число) является високосным, и False в противном случае. Вывести значение функции IsLeapYear для пяти данных значений параметра Y. Високосным считается год, делящийся на 4, за исключением тех годов, которые делятся на 100 и не делятся на 400.\n"
      ],
      "metadata": {
        "id": "QeJTH58XgzJ1"
      }
    },
    {
      "cell_type": "code",
      "execution_count": null,
      "metadata": {
        "id": "K2mnpmxCguct"
      },
      "outputs": [],
      "source": [
        "#proc5\n",
        "def RectPS(x1,y1,x2,y2):\n",
        "  a = abs(x2-x1)\n",
        "  b = abs(y2-y1)\n",
        "  p = (a+b)*2\n",
        "  s = a*b\n",
        "  return p,s"
      ]
    },
    {
      "cell_type": "code",
      "source": [
        "RectPS(1,2,3,4)"
      ],
      "metadata": {
        "colab": {
          "base_uri": "https://localhost:8080/"
        },
        "id": "H-S8wnyAiqRj",
        "outputId": "f284106c-6c0f-4418-d777-756fa4b78a8a"
      },
      "execution_count": null,
      "outputs": [
        {
          "output_type": "execute_result",
          "data": {
            "text/plain": [
              "(8, 4)"
            ]
          },
          "metadata": {},
          "execution_count": 4
        }
      ]
    },
    {
      "cell_type": "code",
      "source": [
        "#proc15\n",
        "def ShiftLeft(A,B,C):\n",
        "  A1 = C\n",
        "  C1 = B\n",
        "  B1 = A\n",
        "  return A1,B1,C1"
      ],
      "metadata": {
        "id": "i8y9hf9jj_SE"
      },
      "execution_count": null,
      "outputs": []
    },
    {
      "cell_type": "code",
      "source": [
        "ShiftLeft(4,3,1)"
      ],
      "metadata": {
        "colab": {
          "base_uri": "https://localhost:8080/"
        },
        "id": "yDpsJg0IlGPy",
        "outputId": "dbbb2f4c-8d1f-41e5-c589-5f0bad9c45b3"
      },
      "execution_count": null,
      "outputs": [
        {
          "output_type": "execute_result",
          "data": {
            "text/plain": [
              "(1, 4, 3)"
            ]
          },
          "metadata": {},
          "execution_count": 84
        }
      ]
    },
    {
      "cell_type": "code",
      "source": [
        "#proc17\n",
        "def RootCount(A,B,C):\n",
        "  p=0\n",
        "  D = B**2 - 4*A*C\n",
        "  if D>0:\n",
        "    p = 2\n",
        "  if D==0:\n",
        "    p = 1\n",
        "  if D<0:\n",
        "    p = 0\n",
        "  return p"
      ],
      "metadata": {
        "id": "uwVQfteHmwYQ"
      },
      "execution_count": null,
      "outputs": []
    },
    {
      "cell_type": "code",
      "source": [
        "RootCount(2,33,4)"
      ],
      "metadata": {
        "colab": {
          "base_uri": "https://localhost:8080/"
        },
        "id": "t9Sw_bL7oLAH",
        "outputId": "436e0901-dbe1-4227-d527-7208ada99393"
      },
      "execution_count": null,
      "outputs": [
        {
          "output_type": "execute_result",
          "data": {
            "text/plain": [
              "2"
            ]
          },
          "metadata": {},
          "execution_count": 82
        }
      ]
    },
    {
      "cell_type": "code",
      "source": [
        "#proc35\n",
        "import math\n",
        "def Fact2(n):\n",
        "  s=1\n",
        "  if n%2==0:\n",
        "    for i in range (2, n+1, 2):\n",
        "      s = s*i\n",
        "  if n%2!=0:\n",
        "    for i in range (1, n+1, 2):\n",
        "      s = s*i\n",
        "  return s"
      ],
      "metadata": {
        "id": "5DH2DlqgpkjZ"
      },
      "execution_count": null,
      "outputs": []
    },
    {
      "cell_type": "code",
      "source": [
        "Fact2(10)"
      ],
      "metadata": {
        "colab": {
          "base_uri": "https://localhost:8080/"
        },
        "id": "jE2JRq-tq3GW",
        "outputId": "1b383738-8e2d-4eeb-fbac-a57470cdd711"
      },
      "execution_count": null,
      "outputs": [
        {
          "output_type": "execute_result",
          "data": {
            "text/plain": [
              "3840"
            ]
          },
          "metadata": {},
          "execution_count": 64
        }
      ]
    },
    {
      "cell_type": "code",
      "source": [
        "#proc35(2)\n",
        "import math\n",
        "def Fact22(n):\n",
        "  s=1\n",
        "  if n%2==0:\n",
        "    s=2\n",
        "  p=1\n",
        "  while n>=s:\n",
        "    p=p*n\n",
        "    n=n-2\n",
        "  return p"
      ],
      "metadata": {
        "id": "AHOhKRWtxl-F"
      },
      "execution_count": null,
      "outputs": []
    },
    {
      "cell_type": "code",
      "source": [
        "Fact22(10)"
      ],
      "metadata": {
        "colab": {
          "base_uri": "https://localhost:8080/"
        },
        "id": "TWUZfwS8x3f_",
        "outputId": "81cd4acf-985e-4d52-e665-437da5e540bf"
      },
      "execution_count": null,
      "outputs": [
        {
          "output_type": "execute_result",
          "data": {
            "text/plain": [
              "3840"
            ]
          },
          "metadata": {},
          "execution_count": 74
        }
      ]
    },
    {
      "cell_type": "code",
      "source": [
        "#proc52\n",
        "def IsLeapYear(n):\n",
        "  y=0\n",
        "  if n%100==0 and n%400!=0:\n",
        "    y=n\n",
        "  if n%4==0 and y!=n:\n",
        "    print (\"True\")\n",
        "  else:\n",
        "    print (\"False\")\n",
        "  return (n)\n",
        "\n",
        "IsLeapYear (2001)"
      ],
      "metadata": {
        "id": "N6Ze9xxo0jQU",
        "outputId": "2109d4bd-d596-42f2-c1fc-57dd5a26923f",
        "colab": {
          "base_uri": "https://localhost:8080/"
        }
      },
      "execution_count": 4,
      "outputs": [
        {
          "output_type": "stream",
          "name": "stdout",
          "text": [
            "False\n"
          ]
        },
        {
          "output_type": "execute_result",
          "data": {
            "text/plain": [
              "2001"
            ]
          },
          "metadata": {},
          "execution_count": 4
        }
      ]
    }
  ]
}