{
  "nbformat": 4,
  "nbformat_minor": 0,
  "metadata": {
    "colab": {
      "provenance": [],
      "authorship_tag": "ABX9TyPLQJG9MuJqpTVmylaGFsQm",
      "include_colab_link": true
    },
    "kernelspec": {
      "name": "python3",
      "display_name": "Python 3"
    },
    "language_info": {
      "name": "python"
    }
  },
  "cells": [
    {
      "cell_type": "markdown",
      "metadata": {
        "id": "view-in-github",
        "colab_type": "text"
      },
      "source": [
        "<a href=\"https://colab.research.google.com/github/Daniil01kzn/Homework/blob/main/Array-Matrix.ipynb\" target=\"_parent\"><img src=\"https://colab.research.google.com/assets/colab-badge.svg\" alt=\"Open In Colab\"/></a>"
      ]
    },
    {
      "cell_type": "markdown",
      "source": [
        "Array6. Даны целые числа N (> 2), A и B. Сформировать и вывести целочисленный массив размера N, первый элемент которого равен A, второй равен B, а каждый последующий элемент равен сумме всех предыдущих.\n",
        "Array7º. Дан массив размера N. Вывести его элементы в обратном порядке.\n",
        "Array18. Дан массив A ненулевых целых чисел размера 10. Вывести значение первого из тех его элементов AK, которые удовлетворяют неравенству AK < A10. Если таких элементов нет, то вывести 0\n",
        "Array103. Дан массив размера N. Вставить элемент с нулевым значением перед минимальным и после максимального элемента массива.\n",
        "Array133. Дано множество A из N точек (точки заданы своими координатами x, y). Среди всех точек этого множества, лежащих в первой или третьей четверти, найти точку, наиболее близкую к началу координат. Если таких точек нет, то вывести точку с нулевыми координатами."
      ],
      "metadata": {
        "id": "QeJTH58XgzJ1"
      }
    },
    {
      "cell_type": "code",
      "source": [
        "#array6\n",
        "a = int(input('a='))\n",
        "b = int(input('b='))\n",
        "n = int(input('n='))\n",
        "x = [a,b,a+b]\n",
        "for i in range (3,n):\n",
        "  t = x[i-1]*2\n",
        "  x.append(t)\n",
        "print (x)"
      ],
      "metadata": {
        "id": "tu9ojjWJkyza",
        "outputId": "23255fb3-ab17-4cce-e2bb-a26c2c568869",
        "colab": {
          "base_uri": "https://localhost:8080/"
        }
      },
      "execution_count": null,
      "outputs": [
        {
          "output_type": "stream",
          "name": "stdout",
          "text": [
            "a=2\n",
            "b=3\n",
            "n=5\n",
            "[2, 3, 5, 10, 20]\n"
          ]
        }
      ]
    },
    {
      "cell_type": "code",
      "execution_count": 1,
      "metadata": {
        "id": "K2mnpmxCguct",
        "outputId": "5cd2f87e-25a7-4a60-f7ff-d2ae0f8e13d4",
        "colab": {
          "base_uri": "https://localhost:8080/"
        }
      },
      "outputs": [
        {
          "output_type": "stream",
          "name": "stdout",
          "text": [
            "n=5\n",
            "1 2 3 4 5\n",
            "5 4 3 2 1\n"
          ]
        }
      ],
      "source": [
        "#array7\n",
        "n = int(input('n='))\n",
        "x = list(map(int, input().split()))\n",
        "if len(x) != n:\n",
        "    print(\"Количество введённых элементов не совпадает с n\")\n",
        "else:\n",
        "    y = x[::-1]\n",
        "    print(*y)"
      ]
    },
    {
      "cell_type": "code",
      "source": [
        "#array18\n",
        "x = [2, 3, 3, 4, 5, 1, 7, 8, 9, 1]\n",
        "t = 0\n",
        "for i in range(10):\n",
        "    if x[i] < x[-1]:\n",
        "        t = x[i]\n",
        "        break\n",
        "print(t)"
      ],
      "metadata": {
        "id": "inyoGS9nsW74",
        "outputId": "ec412f3d-ce1d-4147-c64c-ca4405826c54",
        "colab": {
          "base_uri": "https://localhost:8080/"
        }
      },
      "execution_count": 2,
      "outputs": [
        {
          "output_type": "stream",
          "name": "stdout",
          "text": [
            "0\n"
          ]
        }
      ]
    },
    {
      "cell_type": "code",
      "source": [
        "#133\n",
        "x = [-1,-5,-9,15,20,56]\n",
        "y = [-1,8,67,90,4,7]\n",
        "z = [x[1]*y[1],x[2]*y[2],x[3]*y[3],x[4]*y[4],x[5]*y[5]]\n",
        "for i in range(0,5):\n",
        "  if z[i] > 0:\n",
        "    print(x[i])\n",
        "    print(y[i])\n",
        "\n"
      ],
      "metadata": {
        "id": "xwKEibdsxhtu",
        "outputId": "af42b51a-5b4d-4cef-e5b6-79d3a7e70cb2",
        "colab": {
          "base_uri": "https://localhost:8080/"
        }
      },
      "execution_count": null,
      "outputs": [
        {
          "output_type": "stream",
          "name": "stdout",
          "text": [
            "-9\n",
            "67\n",
            "15\n",
            "90\n",
            "20\n",
            "4\n"
          ]
        }
      ]
    },
    {
      "cell_type": "code",
      "source": [
        "#133\n",
        "x = [-1,5,-9,15,20,56]\n",
        "y = [-1,8,-67,90,4,7]\n",
        "t = []\n",
        "for i in range(6):\n",
        "  t.append (x[i]**2 + y[i]**2)\n",
        "\n",
        "min (t)\n"
      ],
      "metadata": {
        "id": "0JcvpdUd_Fem",
        "outputId": "e1f90dae-c9e7-4cf1-fa15-5859c2c6d6cc",
        "colab": {
          "base_uri": "https://localhost:8080/"
        }
      },
      "execution_count": null,
      "outputs": [
        {
          "output_type": "stream",
          "name": "stdout",
          "text": [
            "56 7\n"
          ]
        }
      ]
    },
    {
      "cell_type": "code",
      "source": [],
      "metadata": {
        "id": "P3zEgTa1xQmk"
      },
      "execution_count": null,
      "outputs": []
    }
  ]
}