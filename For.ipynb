{
  "nbformat": 4,
  "nbformat_minor": 0,
  "metadata": {
    "colab": {
      "provenance": [],
      "authorship_tag": "ABX9TyN/bO+slc2IdQn28aHlZOp4",
      "include_colab_link": true
    },
    "kernelspec": {
      "name": "python3",
      "display_name": "Python 3"
    },
    "language_info": {
      "name": "python"
    }
  },
  "cells": [
    {
      "cell_type": "markdown",
      "metadata": {
        "id": "view-in-github",
        "colab_type": "text"
      },
      "source": [
        "<a href=\"https://colab.research.google.com/github/Daniil01kzn/Homework/blob/main/For.ipynb\" target=\"_parent\"><img src=\"https://colab.research.google.com/assets/colab-badge.svg\" alt=\"Open In Colab\"/></a>"
      ]
    },
    {
      "cell_type": "markdown",
      "source": [
        "For1. Даны целые числа K и N (N > 0). Вывести N раз число K.\n",
        "For40. Даны целые числа A и B (A < B). Вывести все целые числа от A до B включительно; при этом число A должно выводиться 1 раз, число A + 1 должно выводиться 2 раза и т. д.\n",
        "For21. Дано целое число N (> 0). Используя один цикл, найти сумму 1 + 1/(1!) + 1/(2!) + 1/(3!) + … + 1/(N!)\n",
        "For9. Даны два целых числа A и B (A < B). Найти сумму квадратов всех целых чисел от A до B включительно."
      ],
      "metadata": {
        "id": "k0TdJj4Ejvgq"
      }
    },
    {
      "cell_type": "code",
      "source": [
        "#for1\n",
        "k = int(input('k='))\n",
        "n = int(input('n='))\n",
        "for i in range (n):\n",
        "  print (k)"
      ],
      "metadata": {
        "colab": {
          "base_uri": "https://localhost:8080/"
        },
        "id": "3Rl7_5bfriZ7",
        "outputId": "bb89d585-f914-46af-b050-52ca0a1dec99"
      },
      "execution_count": null,
      "outputs": [
        {
          "output_type": "stream",
          "name": "stdout",
          "text": [
            "k=6\n",
            "n=5\n",
            "6\n",
            "6\n",
            "6\n",
            "6\n",
            "6\n"
          ]
        }
      ]
    },
    {
      "cell_type": "code",
      "source": [
        "#for40\n",
        "a = int(input('a='))\n",
        "b = int(input('b='))\n",
        "for i in range (b):\n",
        "  for i in range (n):\n",
        "    print (k)\n",
        "  print (a)\n",
        "  a = a+1\n"
      ],
      "metadata": {
        "id": "Mgsael6TuEIa"
      },
      "execution_count": null,
      "outputs": []
    },
    {
      "cell_type": "code",
      "source": [
        "#for21\n",
        "import math\n",
        "n = int(input('n='))\n",
        "y = 1\n",
        "for i in range (1,n+1):\n",
        "  y = y + 1/math.factorial(i)\n",
        "print (y)"
      ],
      "metadata": {
        "colab": {
          "base_uri": "https://localhost:8080/"
        },
        "id": "Yra0yHayvZfo",
        "outputId": "63e5adb9-3eee-44da-8fad-f612eaac064a"
      },
      "execution_count": 1,
      "outputs": [
        {
          "output_type": "stream",
          "name": "stdout",
          "text": [
            "n=5\n",
            "2.7166666666666663\n"
          ]
        }
      ]
    }
  ]
}