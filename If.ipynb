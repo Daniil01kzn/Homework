{
  "nbformat": 4,
  "nbformat_minor": 0,
  "metadata": {
    "colab": {
      "provenance": [],
      "authorship_tag": "ABX9TyPbxBnlXw+4qgkHD9e/a3yn",
      "include_colab_link": true
    },
    "kernelspec": {
      "name": "python3",
      "display_name": "Python 3"
    },
    "language_info": {
      "name": "python"
    }
  },
  "cells": [
    {
      "cell_type": "markdown",
      "metadata": {
        "id": "view-in-github",
        "colab_type": "text"
      },
      "source": [
        "<a href=\"https://colab.research.google.com/github/Daniil01kzn/Homework/blob/main/If.ipynb\" target=\"_parent\"><img src=\"https://colab.research.google.com/assets/colab-badge.svg\" alt=\"Open In Colab\"/></a>"
      ]
    },
    {
      "cell_type": "markdown",
      "source": [],
      "metadata": {
        "id": "Ro5RhRqP62cG"
      }
    },
    {
      "cell_type": "markdown",
      "source": [
        "If30: Дано целое число, лежащее в диапазоне 1–999. Вывести его строку описание вида «четное двузначное число», «нечетное трехзначное число» и т. д.\n",
        "If23. Даны целочисленные координаты трех вершин прямоугольника, стороны которого параллельны координатным осям. Найти координаты его четвертой вершины.\n",
        "If6°. Даны два числа. Вывести большее из них.\n",
        "If28. Дан номер года (положительное целое число). Определить количество дней в этом году, учитывая, что обычный год насчитывает 365 дней, а високосный — 366 дней. Високосным считается год, делящийся на 4, за исключением тех годов, которые делятся на 100 и не делятся на 400 (например, годы 300, 1300 и 1900 не являются високосными, а 1200 и 2000 — являются).\n",
        "If22°. Даны координаты точки, не лежащей на координатных осях OX и OY. Определить номер координатной четверти, в которой находится данная точка."
      ],
      "metadata": {
        "id": "M5L588SvNsFI"
      }
    },
    {
      "cell_type": "code",
      "source": [],
      "metadata": {
        "id": "V0SUWr9j7AMF"
      },
      "execution_count": null,
      "outputs": []
    },
    {
      "cell_type": "code",
      "execution_count": 4,
      "metadata": {
        "colab": {
          "base_uri": "https://localhost:8080/"
        },
        "id": "S2anbd1zcwQo",
        "outputId": "2c460029-f68b-4c45-b247-2da483570195"
      },
      "outputs": [
        {
          "output_type": "stream",
          "name": "stdout",
          "text": [
            "x=23\n",
            "нечетное двухзначное число\n"
          ]
        }
      ],
      "source": [
        "#if30\n",
        "x = int(input('x='))\n",
        "y = x//2\n",
        "if y==0 and x>99:\n",
        "  print (\"четное трёхзначное число\")\n",
        "if y==0 and x>9 and x<100:\n",
        "  print (\"четное двухзначное число\")\n",
        "if y!=0 and x>99:\n",
        "  print (\"нечетное трёхзначное число\")\n",
        "if y!=0 and x>9 and x<100:\n",
        "  print (\"нечетное двухзначное число\")"
      ]
    },
    {
      "cell_type": "code",
      "source": [
        "x1 = int(input('x1='))\n",
        "y1 = int(input('y1='))\n",
        "x2 = int(input('x2='))\n",
        "y1 = int(input('x1='))\n",
        "x1 = int(input('x1='))\n",
        "x1 = int(input('x1='))\n",
        "x1 = int(input('x1='))\n",
        "\n",
        "y = x//2\n",
        "if y==0 and x>99:\n",
        "  print (\"четное трёхзначное число\")\n",
        "if y==0 and x>9 and x<100:\n",
        "  print (\"четное двухзначное число\")\n",
        "if y!=0 and x>99:\n",
        "  print (\"нечетное трёхзначное число\")\n",
        "if y!=0 and x>9 and x<100:\n",
        "  print (\"нечетное двухзначное число\")"
      ],
      "metadata": {
        "id": "d_MWCtUOzqit"
      },
      "execution_count": null,
      "outputs": []
    }
  ]
}