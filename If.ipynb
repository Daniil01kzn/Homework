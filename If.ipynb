{
  "nbformat": 4,
  "nbformat_minor": 0,
  "metadata": {
    "colab": {
      "provenance": [],
      "authorship_tag": "ABX9TyOzNNGHBQ3oR1SgIFEHrVX0",
      "include_colab_link": true
    },
    "kernelspec": {
      "name": "python3",
      "display_name": "Python 3"
    },
    "language_info": {
      "name": "python"
    }
  },
  "cells": [
    {
      "cell_type": "markdown",
      "metadata": {
        "id": "view-in-github",
        "colab_type": "text"
      },
      "source": [
        "<a href=\"https://colab.research.google.com/github/Daniil01kzn/Homework/blob/main/If.ipynb\" target=\"_parent\"><img src=\"https://colab.research.google.com/assets/colab-badge.svg\" alt=\"Open In Colab\"/></a>"
      ]
    },
    {
      "cell_type": "markdown",
      "source": [],
      "metadata": {
        "id": "Ro5RhRqP62cG"
      }
    },
    {
      "cell_type": "markdown",
      "source": [
        "If30: Дано целое число, лежащее в диапазоне 1–999. Вывести его строку описание вида «четное двузначное число», «нечетное трехзначное число» и т. д.\n",
        "If23. Даны целочисленные координаты трех вершин прямоугольника, стороны которого параллельны координатным осям. Найти координаты его четвертой вершины.\n",
        "If6°. Даны два числа. Вывести большее из них.\n",
        "If28. Дан номер года (положительное целое число). Определить количество дней в этом году, учитывая, что обычный год насчитывает 365 дней, а високосный — 366 дней. Високосным считается год, делящийся на 4, за исключением тех годов, которые делятся на 100 и не делятся на 400 (например, годы 300, 1300 и 1900 не являются високосными, а 1200 и 2000 — являются).\n",
        "If22°. Даны координаты точки, не лежащей на координатных осях OX и OY. Определить номер координатной четверти, в которой находится данная точка."
      ],
      "metadata": {
        "id": "M5L588SvNsFI"
      }
    },
    {
      "cell_type": "code",
      "source": [],
      "metadata": {
        "id": "V0SUWr9j7AMF"
      },
      "execution_count": null,
      "outputs": []
    },
    {
      "cell_type": "code",
      "execution_count": null,
      "metadata": {
        "colab": {
          "base_uri": "https://localhost:8080/"
        },
        "id": "S2anbd1zcwQo",
        "outputId": "2c460029-f68b-4c45-b247-2da483570195"
      },
      "outputs": [
        {
          "output_type": "stream",
          "name": "stdout",
          "text": [
            "x=23\n",
            "нечетное двухзначное число\n"
          ]
        }
      ],
      "source": [
        "#if30\n",
        "x = int(input('x='))\n",
        "y = x//2\n",
        "if y==0 and x>99:\n",
        "  print (\"четное трёхзначное число\")\n",
        "if y==0 and x>9 and x<100:\n",
        "  print (\"четное двухзначное число\")\n",
        "if y!=0 and x>99:\n",
        "  print (\"нечетное трёхзначное число\")\n",
        "if y!=0 and x>9 and x<100:\n",
        "  print (\"нечетное двухзначное число\")"
      ]
    },
    {
      "cell_type": "code",
      "source": [
        "#if23 ???\n",
        "x1 = int(input('x1='))\n",
        "y1 = int(input('y1='))\n",
        "x2 = int(input('x2='))\n",
        "y2 = int(input('y2='))\n",
        "x3 = int(input('x3='))\n",
        "y3 = int(input('y3='))\n",
        "x4=0\n",
        "y4=0\n",
        "if x1=x2 and x1>x3:\n",
        "  x4=x3"
      ],
      "metadata": {
        "id": "d_MWCtUOzqit"
      },
      "execution_count": null,
      "outputs": []
    },
    {
      "cell_type": "code",
      "source": [
        "#if6\n",
        "#if23\n",
        "x = int(input('x='))\n",
        "y = int(input('y='))\n",
        "if x>y:\n",
        "  print (x)\n",
        "else:\n",
        "  print (y)"
      ],
      "metadata": {
        "id": "FL3FpxWV6XgN",
        "outputId": "97180e24-92bd-4185-c151-5bfb4ee43a74",
        "colab": {
          "base_uri": "https://localhost:8080/"
        }
      },
      "execution_count": null,
      "outputs": [
        {
          "output_type": "stream",
          "name": "stdout",
          "text": [
            "x=23\n",
            "y=34\n",
            "34\n"
          ]
        }
      ]
    },
    {
      "cell_type": "code",
      "source": [
        "#if28\n",
        "x = int(input('x='))\n",
        "y=0\n",
        "if x%100==0 and x%400!=0:\n",
        "  y=x\n",
        "if x%4==0 and y!=x:\n",
        "  print (\"високосный год\")\n",
        "else:\n",
        "  print (\"невисокосный год\")"
      ],
      "metadata": {
        "id": "enhTW0tq7NbL",
        "outputId": "371e1d4e-4df9-4b5d-b9d9-a53d2c6757a1",
        "colab": {
          "base_uri": "https://localhost:8080/"
        }
      },
      "execution_count": null,
      "outputs": [
        {
          "output_type": "stream",
          "name": "stdout",
          "text": [
            "x=1900\n",
            "невисокосный год\n"
          ]
        }
      ]
    },
    {
      "cell_type": "code",
      "source": [
        "#if22\n",
        "x = int(input('x='))\n",
        "y = int(input('y='))\n",
        "if x>0 and y>0:\n",
        "  print (\"first\")\n",
        "if x<0 and y>0:\n",
        "  print (\"second\")\n",
        "if x<0 and y<0:\n",
        "  print (\"third\")\n",
        "if x>0 and y<0:\n",
        "  print (\"fourth\")"
      ],
      "metadata": {
        "colab": {
          "base_uri": "https://localhost:8080/"
        },
        "id": "tvtAQw5Q_aNC",
        "outputId": "2eae95e0-8985-469d-cf64-97ae3dad73be"
      },
      "execution_count": 1,
      "outputs": [
        {
          "output_type": "stream",
          "name": "stdout",
          "text": [
            "x=1\n",
            "y=-2\n",
            "fourth\n"
          ]
        }
      ]
    }
  ]
}